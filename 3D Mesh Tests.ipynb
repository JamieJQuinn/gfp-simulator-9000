{
 "cells": [
  {
   "cell_type": "code",
   "execution_count": 1,
   "metadata": {},
   "outputs": [
    {
     "name": "stdout",
     "output_type": "stream",
     "text": [
      "km: 0.23000000000000007\n",
      "kp: 11.839878157810809\n",
      "conc_rac: 1.111111111111111\n",
      "conc_gfp: 1.0\n"
     ]
    }
   ],
   "source": [
    "from mpl_toolkits import mplot3d\n",
    "import numpy as np\n",
    "import matplotlib.pyplot as plt\n",
    "import pymesh\n",
    "import meshio\n",
    "import math as m\n",
    "import os\n",
    "\n",
    "from mesh3d import Mesh3D\n",
    "from boundary import Boundary\n",
    "import parameters\n",
    "from parameters import km, kp, conc_rac, conc_gfp\n",
    "\n",
    "print(\"km:\", km)\n",
    "print(\"kp:\", kp)\n",
    "print(\"conc_rac:\", conc_rac)\n",
    "print(\"conc_gfp:\", conc_gfp)\n",
    "\n",
    "%matplotlib inline\n",
    "plt.rcParams[\"figure.figsize\"] = 12.8, 9.6"
   ]
  },
  {
   "cell_type": "code",
   "execution_count": 2,
   "metadata": {},
   "outputs": [],
   "source": [
    "CELL_SIZE=3e-1"
   ]
  },
  {
   "cell_type": "code",
   "execution_count": 3,
   "metadata": {},
   "outputs": [],
   "source": [
    "def cart2sph(x,y,z):\n",
    "    XsqPlusYsq = x**2 + y**2\n",
    "    r = m.sqrt(XsqPlusYsq + z**2)               # r\n",
    "    elev = m.acos(z/r)                          # theta\n",
    "    az = m.atan2(y,x)                           # phi\n",
    "    return r, elev, az"
   ]
  },
  {
   "cell_type": "markdown",
   "metadata": {},
   "source": [
    "# Test mesh loading, saving & resizing"
   ]
  },
  {
   "cell_type": "code",
   "execution_count": 4,
   "metadata": {},
   "outputs": [],
   "source": [
    "input_mesh = pymesh.load_mesh(\"meshes/sausage_shape.obj\")\n",
    "\n",
    "mesh = Mesh3D(input_mesh, CELL_SIZE)\n",
    "\n",
    "pymesh.save_mesh(\"meshes/regularised_cell.ply\", mesh.input_mesh)\n",
    "mesh.write_input_mesh(\"meshes/regularised_cell.vtk\")\n",
    "mesh.write_mesh(\"meshes/regularised_cell_tetra.vtk\")"
   ]
  },
  {
   "cell_type": "markdown",
   "metadata": {},
   "source": [
    "# Test boundary node marking"
   ]
  },
  {
   "cell_type": "code",
   "execution_count": 5,
   "metadata": {},
   "outputs": [],
   "source": [
    "tetmesh = mesh.tetmesh\n",
    "boundary_mesh = pymesh.compute_outer_hull(mesh.tetmesh)\n",
    "\n",
    "is_boundary = np.zeros(tetmesh.num_vertices)\n",
    "source_faces = boundary_mesh.get_attribute(\"face_sources\").astype(int)\n",
    "for i_face in source_faces:\n",
    "    face = tetmesh.faces[i_face]\n",
    "    is_boundary[face] = True\n",
    "\n",
    "mesh.set_attribute(\"is_boundary\", is_boundary)\n",
    "\n",
    "mesh.write_mesh(\"meshes/regularised_cell_tetra_with_boundary.vtk\")"
   ]
  },
  {
   "cell_type": "code",
   "execution_count": 6,
   "metadata": {},
   "outputs": [],
   "source": [
    "tetmesh = mesh.tetmesh\n",
    "boundary_mesh = pymesh.compute_outer_hull(mesh.tetmesh)\n",
    "\n",
    "is_boundary = np.zeros(tetmesh.num_vertices)\n",
    "source_faces = boundary_mesh.get_attribute(\"face_sources\").astype(int)\n",
    "boundary_vertices = np.unique(np.array(tetmesh.faces[source_faces]).flatten())\n",
    "\n",
    "is_boundary[boundary_vertices] = True\n",
    "\n",
    "mesh.set_attribute(\"is_boundary\", is_boundary)\n",
    "\n",
    "mesh.write_mesh(\"meshes/regularised_cell_tetra_with_boundary.vtk\")"
   ]
  },
  {
   "cell_type": "markdown",
   "metadata": {},
   "source": [
    "# Test node data output"
   ]
  },
  {
   "cell_type": "code",
   "execution_count": 7,
   "metadata": {},
   "outputs": [],
   "source": [
    "vertex_data = tetmesh.vertices[:, 2]\n",
    "mesh.set_attribute(\"data\", vertex_data)\n",
    "\n",
    "mesh.write_mesh(\"meshes/regularised_cell_tetra_with_data.vtk\")"
   ]
  },
  {
   "cell_type": "markdown",
   "metadata": {},
   "source": [
    "# Test Laplace equation"
   ]
  },
  {
   "cell_type": "code",
   "execution_count": 8,
   "metadata": {},
   "outputs": [],
   "source": [
    "def save_mesh(mesh, soln, analytical_fn, output_filename):\n",
    "    analytical_soln = np.array([analytical_fn(v) for v in mesh.vertices()])\n",
    "\n",
    "    # Calculate error\n",
    "    error = np.abs(soln - analytical_soln)\n",
    "    print(\"Error is\", np.linalg.norm(error))\n",
    "\n",
    "    # Save mesh + data\n",
    "    mesh.set_attribute(\"soln\", soln)\n",
    "    mesh.set_attribute(\"error\", error)\n",
    "    mesh.set_attribute(\"analytical_soln\", analytical_soln)\n",
    "\n",
    "    mesh.write_mesh(output_filename)"
   ]
  },
  {
   "cell_type": "code",
   "execution_count": 9,
   "metadata": {},
   "outputs": [],
   "source": [
    "def setup_boundaries(dirichlet_fn, von_neumann_fn,\n",
    "                     dirichlet_boundary_vertices,\n",
    "                     mesh, stiffness):\n",
    "    # Setup von Neumann boundary conditions on RHS\n",
    "    boundary_values = mesh.calculate_boundary_values(von_neumann_fn)\n",
    "    von_neumann_rhs = mesh.assemble_von_neumann_boundary(boundary_values)\n",
    "    \n",
    "    dirichlet_rhs = np.zeros(mesh.n_vertices)\n",
    "    if dirichlet_boundary_vertices.size > 0:\n",
    "        # Setup dirichlet boundary conditions on RHS\n",
    "        boundary_values = np.array(mesh.calculate_boundary_values(dirichlet_fn))\n",
    "        dirichlet_rhs[dirichlet_boundary_vertices] = \\\n",
    "            boundary_values[dirichlet_boundary_vertices]\n",
    "\n",
    "        # Remove dirichlet boundary points from stiffness mat\n",
    "        stiffness[dirichlet_boundary_vertices,:] = 0.0\n",
    "        # And ensure matrix isn't singular\n",
    "        for vertex in dirichlet_boundary_vertices:\n",
    "            stiffness[vertex, vertex] = 1.0\n",
    "        \n",
    "    return dirichlet_rhs, von_neumann_rhs"
   ]
  },
  {
   "cell_type": "code",
   "execution_count": 10,
   "metadata": {},
   "outputs": [],
   "source": [
    "def run_steady_state(dirichlet_fn, von_neumann_fn, analytical_fn,\n",
    "                     dirichlet_boundary_vertices,\n",
    "                     output_filename, mesh):\n",
    "    # Calculate stiffness mat for Laplacian operator\n",
    "    stiffness = np.asarray(mesh.assembler.assemble(\"laplacian\").todense())\n",
    "    \n",
    "    # Calulate boundary components of RHS\n",
    "    dirichlet_rhs, von_neumann_rhs = setup_boundaries(dirichlet_fn, von_neumann_fn,\n",
    "                     dirichlet_boundary_vertices,\n",
    "                     mesh, stiffness)\n",
    "\n",
    "    # Setup RHS\n",
    "    rhs_vector = np.zeros(mesh.n_vertices)\n",
    "    rhs_vector += dirichlet_rhs\n",
    "    rhs_vector += von_neumann_rhs\n",
    "\n",
    "    # Solve\n",
    "    soln = np.linalg.solve(stiffness, rhs_vector)\n",
    "\n",
    "    save_mesh(mesh, soln, analytical_fn, output_filename)"
   ]
  },
  {
   "cell_type": "markdown",
   "metadata": {},
   "source": [
    "## Dirichlet 1"
   ]
  },
  {
   "cell_type": "code",
   "execution_count": 11,
   "metadata": {},
   "outputs": [
    {
     "name": "stdout",
     "output_type": "stream",
     "text": [
      "Error is 1.713255271230399e-15\n"
     ]
    }
   ],
   "source": [
    "def calculate_dirichlet_values(vertex):\n",
    "    # u = z around boundary\n",
    "    return vertex[2]\n",
    "\n",
    "def calc_analytical_solution(vertex):\n",
    "    # Solution is globally u=z\n",
    "    return vertex[2]\n",
    "\n",
    "def calculate_von_neumann_values(vertex):\n",
    "    return 0.0\n",
    "\n",
    "output_filename = \"meshes/laplace_equation_dirichlet_1_result.vtk\"\n",
    "                 \n",
    "# Generate mesh from inbuilt sphere\n",
    "input_mesh = pymesh.generate_icosphere(1, (0,0,0), refinement_order=2)\n",
    "mesh = Mesh3D(input_mesh, CELL_SIZE)\n",
    "\n",
    "run_steady_state(calculate_dirichlet_values, calculate_von_neumann_values,\n",
    "                calc_analytical_solution, mesh.boundary_vertices,\n",
    "                output_filename, mesh)"
   ]
  },
  {
   "cell_type": "markdown",
   "metadata": {},
   "source": [
    "## Dirichlet 2"
   ]
  },
  {
   "cell_type": "code",
   "execution_count": 12,
   "metadata": {},
   "outputs": [
    {
     "name": "stdout",
     "output_type": "stream",
     "text": [
      "Error is 0.17498695176731208\n"
     ]
    }
   ],
   "source": [
    "def calculate_dirichlet_values(vertex):\n",
    "    r, theta, phi = cart2sph(vertex[0], vertex[1], vertex[2])\n",
    "    return m.cos(theta)**2\n",
    "\n",
    "def calc_analytical_solution(vertex):\n",
    "    r, theta, phi = cart2sph(vertex[0], vertex[1], vertex[2])\n",
    "    c = [1, 0, 2*(r)**2]\n",
    "    return 1/3*np.polynomial.legendre.legval(m.cos(theta), c)\n",
    "\n",
    "def calculate_von_neumann_values(vertex):\n",
    "    return 0.0\n",
    "\n",
    "output_filename = \"meshes/laplace_equation_dirichlet_2_result.vtk\"\n",
    "                 \n",
    "# Generate mesh from inbuilt sphere\n",
    "input_mesh = pymesh.generate_icosphere(1, (0,0,0), refinement_order=2)\n",
    "mesh = Mesh3D(input_mesh, CELL_SIZE)\n",
    "\n",
    "run_steady_state(calculate_dirichlet_values, calculate_von_neumann_values,\n",
    "                calc_analytical_solution, mesh.boundary_vertices,\n",
    "                output_filename, mesh)"
   ]
  },
  {
   "cell_type": "markdown",
   "metadata": {},
   "source": [
    "## von Neumann"
   ]
  },
  {
   "cell_type": "code",
   "execution_count": 13,
   "metadata": {},
   "outputs": [
    {
     "name": "stdout",
     "output_type": "stream",
     "text": [
      "Error is 0.029217325309843226\n"
     ]
    }
   ],
   "source": [
    "def calculate_dirichlet_values(vertex):\n",
    "    return vertex[2]\n",
    "\n",
    "def calc_analytical_solution(vertex):\n",
    "    return vertex[2]\n",
    "\n",
    "def calculate_von_neumann_values(vertex):\n",
    "    return vertex[2]\n",
    "\n",
    "output_filename = \"meshes/laplace_equation_von_neumann_result.vtk\"\n",
    "\n",
    "# Generate mesh from inbuilt sphere\n",
    "input_mesh = pymesh.generate_icosphere(1, (0,0,0), refinement_order=4)\n",
    "mesh = Mesh3D(input_mesh, CELL_SIZE)\n",
    "\n",
    "dirichlet_boundary_vertices = np.array([mesh.boundary_vertices[0]])\n",
    "\n",
    "run_steady_state(calculate_dirichlet_values, calculate_von_neumann_values,\n",
    "                calc_analytical_solution, dirichlet_boundary_vertices,\n",
    "                output_filename, mesh)"
   ]
  },
  {
   "cell_type": "markdown",
   "metadata": {},
   "source": [
    "# Test Heat Equation"
   ]
  },
  {
   "cell_type": "code",
   "execution_count": 14,
   "metadata": {},
   "outputs": [],
   "source": [
    "def set_initial_conditions(mesh, calculate_initial_condition):\n",
    "    return np.array(list(map(calculate_initial_condition, mesh.vertices())))"
   ]
  },
  {
   "cell_type": "code",
   "execution_count": 15,
   "metadata": {},
   "outputs": [],
   "source": [
    "def run_heat_equation(dirichlet_fn, von_neumann_fn,\n",
    "                      analytical_fn, ic_fn,\n",
    "                     dirichlet_boundary_vertices,\n",
    "                     output_filename, mesh, dt, T):\n",
    "    # Calculate stiffness mat for Laplacian operator\n",
    "    stiffness = np.asarray(mesh.assembler.assemble(\"laplacian\").todense())\n",
    "    mass = np.asarray(mesh.assembler.assemble(\"mass\").todense())\n",
    "    \n",
    "    # Calulate boundary components of RHS\n",
    "    dirichlet_rhs, von_neumann_rhs = setup_boundaries(dirichlet_fn, von_neumann_fn,\n",
    "                     dirichlet_boundary_vertices,\n",
    "                     mesh, stiffness)\n",
    "    \n",
    "    # Initial conditions\n",
    "    u_prev = set_initial_conditions(mesh, ic_fn)\n",
    "\n",
    "    # Solve\n",
    "    lhs_matrix = dt*stiffness + mass\n",
    "\n",
    "    t = 0\n",
    "    while t<T:\n",
    "        rhs_vector = mass @ u_prev + dt*(dirichlet_rhs + von_neumann_rhs)\n",
    "        u_next = np.linalg.solve(lhs_matrix, rhs_vector)\n",
    "        u_prev[:] = u_next[:]\n",
    "        t+=dt\n",
    "\n",
    "    soln = u_next\n",
    "\n",
    "    save_mesh(mesh, soln, analytical_fn, output_filename)"
   ]
  },
  {
   "cell_type": "markdown",
   "metadata": {},
   "source": [
    "## Dirichlet"
   ]
  },
  {
   "cell_type": "code",
   "execution_count": 16,
   "metadata": {},
   "outputs": [
    {
     "name": "stdout",
     "output_type": "stream",
     "text": [
      "Error is 3.327892358866849e-15\n"
     ]
    }
   ],
   "source": [
    "def calculate_dirichlet_values(vertex):\n",
    "    return 0.5\n",
    "\n",
    "def calculate_initial_condition(vertex):\n",
    "    return 0.0\n",
    "\n",
    "def calc_analytical_solution(vertex):\n",
    "    return 0.5\n",
    "\n",
    "def calculate_von_neumann_values(vertex):\n",
    "    return 0.0\n",
    "\n",
    "output_filename = \"meshes/heat_equation_dirichlet_result.vtk\"\n",
    "\n",
    "input_mesh = pymesh.generate_icosphere(1, (0,0,0), refinement_order=2)\n",
    "mesh = Mesh3D(input_mesh, CELL_SIZE)\n",
    "    \n",
    "dt = 0.1\n",
    "T = 10.0\n",
    "\n",
    "dirichlet_boundary_vertices = np.array(mesh.boundary_vertices)\n",
    "\n",
    "run_heat_equation(calculate_dirichlet_values, calculate_von_neumann_values,\n",
    "                      calc_analytical_solution, calculate_initial_condition,\n",
    "                     dirichlet_boundary_vertices,\n",
    "                     output_filename, mesh, dt, T)"
   ]
  },
  {
   "cell_type": "markdown",
   "metadata": {},
   "source": [
    "## von Neumann"
   ]
  },
  {
   "cell_type": "code",
   "execution_count": 17,
   "metadata": {},
   "outputs": [
    {
     "name": "stdout",
     "output_type": "stream",
     "text": [
      "Error is 0.05697728832053643\n"
     ]
    }
   ],
   "source": [
    "def calculate_dirichlet_values(vertex):\n",
    "    return vertex[2]\n",
    "\n",
    "def calculate_initial_condition(vertex):\n",
    "    return 0.0\n",
    "\n",
    "def calc_analytical_solution(vertex):\n",
    "    return vertex[2]\n",
    "\n",
    "def calculate_von_neumann_values(vertex):\n",
    "    return vertex[2]\n",
    "\n",
    "output_filename = \"meshes/heat_equation_von_neumann_result.vtk\"\n",
    "\n",
    "input_mesh = pymesh.generate_icosphere(1, (0,0,0), refinement_order=3)\n",
    "mesh = Mesh3D(input_mesh, CELL_SIZE)\n",
    "    \n",
    "dt = 0.1\n",
    "T = 10.0\n",
    "\n",
    "dirichlet_boundary_vertices = np.array([])\n",
    "\n",
    "run_heat_equation(calculate_dirichlet_values, calculate_von_neumann_values,\n",
    "                      calc_analytical_solution, calculate_initial_condition,\n",
    "                     dirichlet_boundary_vertices,\n",
    "                     output_filename, mesh, dt, T)"
   ]
  },
  {
   "cell_type": "markdown",
   "metadata": {},
   "source": [
    "# Kinetic boundaries"
   ]
  },
  {
   "cell_type": "code",
   "execution_count": 28,
   "metadata": {},
   "outputs": [],
   "source": [
    "def run_simulation(mesh, membrane,\n",
    "                   ic_fn, output_folder,\n",
    "                   total_time=1.0, steps_per_time=50,\n",
    "                   time_between_saves=0.1):\n",
    "    # Work out timings\n",
    "    total_steps = int(total_time*steps_per_time)\n",
    "    T = total_time/parameters.T0\n",
    "    time_between_saves /= parameters.T0\n",
    "    dt = T/total_steps\n",
    "#     print(\"dt:\", dt)\n",
    "\n",
    "    # Initial conditions\n",
    "    u_prev = set_initial_conditions(mesh, ic_fn)\n",
    "    \n",
    "    # Assemble matrices\n",
    "    stiffness = mesh.assemble_stiffness()\n",
    "    mass = mesh.assemble_mass()\n",
    "    \n",
    "    # Form LHS matrix\n",
    "    lhs_matrix = dt*stiffness + mass\n",
    "\n",
    "    t = 0.0\n",
    "    save_t = 0.0\n",
    "    saves = 0\n",
    "    \n",
    "    while t<T:\n",
    "        # Write to file\n",
    "        if t >= save_t:\n",
    "            mesh.set_attribute(\"cytoplasm_gfp\", u_prev)\n",
    "            mesh.set_attribute(\"bound_gfp\", membrane.bound_gfp)\n",
    "            combined = u_prev + membrane.bound_gfp/parameters.membrane_thickness\n",
    "            mesh.set_attribute(\"total_gfp\", combined)\n",
    "            output_filename = output_folder + \"/\" + str(saves) + \".vtk\"\n",
    "            mesh.write_mesh(output_filename)\n",
    "            save_t += time_between_saves\n",
    "            saves += 1\n",
    "            \n",
    "        # Calculate boundary condition\n",
    "        boundary_values = -1*membrane.calc_ddt(u_prev)\n",
    "        boundary_vector = mesh.assemble_von_neumann_boundary(boundary_values)\n",
    "        \n",
    "        # Solve FEM PDE\n",
    "        rhs_vector = dt*boundary_vector + mass.dot(u_prev)\n",
    "        u_next = np.linalg.solve(lhs_matrix, rhs_vector)\n",
    "        \n",
    "        # Update boundary ODE\n",
    "        membrane.update(dt)\n",
    "\n",
    "        # Advance timestep\n",
    "        u_prev[:] = u_next[:]\n",
    "        t+=dt"
   ]
  },
  {
   "cell_type": "code",
   "execution_count": 30,
   "metadata": {
    "scrolled": false
   },
   "outputs": [],
   "source": [
    "def calculate_initial_condition(vertex):\n",
    "    return 1.0\n",
    "\n",
    "output_folder = \"data/kinetic_boundaries_test_1\"\n",
    "try:\n",
    "    os.makedirs(output_folder)\n",
    "except FileExistsError:\n",
    "    pass\n",
    "\n",
    "input_mesh = pymesh.generate_icosphere(1, (0,0,0), refinement_order=2)\n",
    "mesh = Mesh3D(input_mesh, CELL_SIZE)\n",
    "\n",
    "membrane = Boundary(mesh.n_vertices, mesh.boundary_vertices, km, kp)\n",
    "active_rac = 0.2\n",
    "membrane.set_active_rac(conc_rac*active_rac)\n",
    "\n",
    "run_simulation(mesh, membrane, calculate_initial_condition, output_folder, total_time=5.0, time_between_saves=0.1)"
   ]
  },
  {
   "cell_type": "code",
   "execution_count": null,
   "metadata": {},
   "outputs": [],
   "source": []
  }
 ],
 "metadata": {
  "kernelspec": {
   "display_name": "Python 3",
   "language": "python",
   "name": "python3"
  },
  "language_info": {
   "codemirror_mode": {
    "name": "ipython",
    "version": 3
   },
   "file_extension": ".py",
   "mimetype": "text/x-python",
   "name": "python",
   "nbconvert_exporter": "python",
   "pygments_lexer": "ipython3",
   "version": "3.8.1"
  }
 },
 "nbformat": 4,
 "nbformat_minor": 2
}
