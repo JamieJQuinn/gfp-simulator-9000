{
 "cells": [
  {
   "cell_type": "code",
   "execution_count": 1,
   "metadata": {},
   "outputs": [],
   "source": [
    "from mpl_toolkits import mplot3d\n",
    "import numpy as np\n",
    "import matplotlib.pyplot as plt\n",
    "import pymesh\n",
    "import meshio\n",
    "\n",
    "from mesh3d import Mesh3D\n",
    "\n",
    "%matplotlib inline\n",
    "plt.rcParams[\"figure.figsize\"] = 12.8, 9.6"
   ]
  },
  {
   "cell_type": "code",
   "execution_count": 2,
   "metadata": {},
   "outputs": [],
   "source": [
    "CELL_SIZE=1e-1"
   ]
  },
  {
   "cell_type": "markdown",
   "metadata": {},
   "source": [
    "# Test mesh loading, saving & resizing"
   ]
  },
  {
   "cell_type": "code",
   "execution_count": 4,
   "metadata": {},
   "outputs": [],
   "source": [
    "input_mesh = pymesh.load_mesh(\"meshes/sausage_shape.obj\")\n",
    "\n",
    "mesh = Mesh3D(input_mesh)\n",
    "\n",
    "mesh.resize_input_mesh(CELL_SIZE)\n",
    "\n",
    "pymesh.save_mesh(\"meshes/regularised_cell.ply\", mesh.input_mesh)\n",
    "mesh.write_input_mesh(\"meshes/regularised_cell.vtk\")\n",
    "\n",
    "# mesh.plot_mesh()"
   ]
  },
  {
   "cell_type": "markdown",
   "metadata": {},
   "source": [
    "# Test tetrahedralisation"
   ]
  },
  {
   "cell_type": "code",
   "execution_count": 5,
   "metadata": {},
   "outputs": [],
   "source": [
    "mesh.tetrahedralise(CELL_SIZE)\n",
    "mesh.write_mesh(\"meshes/regularised_cell_tetra.vtk\")"
   ]
  },
  {
   "cell_type": "markdown",
   "metadata": {},
   "source": [
    "# Test boundary node marking"
   ]
  },
  {
   "cell_type": "code",
   "execution_count": 8,
   "metadata": {},
   "outputs": [],
   "source": [
    "tetmesh = mesh.tetmesh\n",
    "boundary_mesh = pymesh.compute_outer_hull(mesh.tetmesh)\n",
    "\n",
    "is_boundary = np.zeros(tetmesh.num_vertices)\n",
    "source_faces = boundary_mesh.get_attribute(\"face_sources\").astype(int)\n",
    "for i_face in source_faces:\n",
    "    face = tetmesh.faces[i_face]\n",
    "    is_boundary[face] = True\n",
    "\n",
    "tetmesh.add_attribute(\"is_boundary\")\n",
    "tetmesh.set_attribute(\"is_boundary\", is_boundary)\n",
    "\n",
    "mesh.write_mesh(\"meshes/regularised_cell_tetra_with_boundary.vtk\", [\"is_boundary\"])"
   ]
  },
  {
   "cell_type": "markdown",
   "metadata": {},
   "source": [
    "# Test node data output"
   ]
  },
  {
   "cell_type": "code",
   "execution_count": 10,
   "metadata": {},
   "outputs": [],
   "source": [
    "vertex_data = tetmesh.vertices[:, 2]\n",
    "tetmesh.add_attribute(\"data\")\n",
    "tetmesh.set_attribute(\"data\", vertex_data)\n",
    "\n",
    "mesh.write_mesh(\"meshes/regularised_cell_tetra_with_data.vtk\", [\"data\"])"
   ]
  },
  {
   "cell_type": "markdown",
   "metadata": {},
   "source": [
    "# Test steady-state heat equation (i.e. stiffness matrix)"
   ]
  },
  {
   "cell_type": "code",
   "execution_count": null,
   "metadata": {},
   "outputs": [],
   "source": [
    "def calculate_body_force(vertex):\n",
    "    # Body force is simply f=4\n",
    "    return 4.0\n",
    "\n",
    "stiffness = mesh.assemble_stiffness()\n",
    "force_vector = mesh.assemble_body_force(calculate_body_force)\n",
    "\n",
    "# Apply boundary conditions\n",
    "stiffness[mesh.boundary_vertices,:] = 0.0\n",
    "stiffness[:,mesh.boundary_vertices] = 0.0\n",
    "for vertex in mesh.boundary_vertices:\n",
    "    stiffness[vertex, vertex] = 1.0\n",
    "force_vector[mesh.boundary_vertices] = 0.0\n",
    "\n",
    "# Solve\n",
    "rhs_vector = force_vector\n",
    "soln = np.linalg.solve(stiffness, rhs_vector)\n",
    "\n",
    "# Calculate error\n",
    "error = [\n",
    "    abs(soln[i] - analytical_solution(vertex))\n",
    "    for i, vertex in enumerate(mesh.vertices())]\n",
    "\n",
    "print(\"Error is\", np.linalg.norm(error))\n",
    "\n",
    "# Plot\n",
    "fig, ax = plt.subplots(1, 1, figsize=(10,10))\n",
    "mesh.plot(soln, axis=ax)\n",
    "ax.set_title('Solution')"
   ]
  }
 ],
 "metadata": {
  "kernelspec": {
   "display_name": "Python 3",
   "language": "python",
   "name": "python3"
  },
  "language_info": {
   "codemirror_mode": {
    "name": "ipython",
    "version": 3
   },
   "file_extension": ".py",
   "mimetype": "text/x-python",
   "name": "python",
   "nbconvert_exporter": "python",
   "pygments_lexer": "ipython3",
   "version": "3.8.1"
  }
 },
 "nbformat": 4,
 "nbformat_minor": 2
}
