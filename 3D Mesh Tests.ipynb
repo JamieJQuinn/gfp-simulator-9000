{
 "cells": [
  {
   "cell_type": "code",
   "execution_count": 1,
   "metadata": {},
   "outputs": [],
   "source": [
    "from mpl_toolkits import mplot3d\n",
    "import numpy as np\n",
    "import matplotlib.pyplot as plt\n",
    "import pymesh\n",
    "import meshio\n",
    "import math as m\n",
    "\n",
    "from mesh3d import Mesh3D\n",
    "\n",
    "%matplotlib inline\n",
    "plt.rcParams[\"figure.figsize\"] = 12.8, 9.6"
   ]
  },
  {
   "cell_type": "code",
   "execution_count": 27,
   "metadata": {},
   "outputs": [],
   "source": [
    "CELL_SIZE=5e-1"
   ]
  },
  {
   "cell_type": "markdown",
   "metadata": {},
   "source": [
    "# Test mesh loading, saving & resizing"
   ]
  },
  {
   "cell_type": "code",
   "execution_count": 3,
   "metadata": {},
   "outputs": [],
   "source": [
    "input_mesh = pymesh.load_mesh(\"meshes/sausage_shape.obj\")\n",
    "\n",
    "mesh = Mesh3D(input_mesh, CELL_SIZE)\n",
    "\n",
    "pymesh.save_mesh(\"meshes/regularised_cell.ply\", mesh.input_mesh)\n",
    "mesh.write_input_mesh(\"meshes/regularised_cell.vtk\")\n",
    "\n",
    "mesh.write_mesh(\"meshes/regularised_cell_tetra.vtk\")"
   ]
  },
  {
   "cell_type": "markdown",
   "metadata": {},
   "source": [
    "# Test boundary node marking"
   ]
  },
  {
   "cell_type": "code",
   "execution_count": 4,
   "metadata": {},
   "outputs": [],
   "source": [
    "tetmesh = mesh.tetmesh\n",
    "boundary_mesh = pymesh.compute_outer_hull(mesh.tetmesh)\n",
    "\n",
    "is_boundary = np.zeros(tetmesh.num_vertices)\n",
    "source_faces = boundary_mesh.get_attribute(\"face_sources\").astype(int)\n",
    "for i_face in source_faces:\n",
    "    face = tetmesh.faces[i_face]\n",
    "    is_boundary[face] = True\n",
    "\n",
    "mesh.set_attribute(\"is_boundary\", is_boundary)\n",
    "\n",
    "mesh.write_mesh(\"meshes/regularised_cell_tetra_with_boundary.vtk\")"
   ]
  },
  {
   "cell_type": "code",
   "execution_count": 5,
   "metadata": {},
   "outputs": [],
   "source": [
    "tetmesh = mesh.tetmesh\n",
    "boundary_mesh = pymesh.compute_outer_hull(mesh.tetmesh)\n",
    "\n",
    "is_boundary = np.zeros(tetmesh.num_vertices)\n",
    "source_faces = boundary_mesh.get_attribute(\"face_sources\").astype(int)\n",
    "boundary_vertices = np.unique(np.array(tetmesh.faces[source_faces]).flatten())\n",
    "\n",
    "is_boundary[boundary_vertices] = True\n",
    "\n",
    "mesh.set_attribute(\"is_boundary\", is_boundary)\n",
    "\n",
    "mesh.write_mesh(\"meshes/regularised_cell_tetra_with_boundary.vtk\")"
   ]
  },
  {
   "cell_type": "markdown",
   "metadata": {},
   "source": [
    "# Test node data output"
   ]
  },
  {
   "cell_type": "code",
   "execution_count": 6,
   "metadata": {},
   "outputs": [],
   "source": [
    "vertex_data = tetmesh.vertices[:, 2]\n",
    "mesh.set_attribute(\"data\", vertex_data)\n",
    "\n",
    "mesh.write_mesh(\"meshes/regularised_cell_tetra_with_data.vtk\")"
   ]
  },
  {
   "cell_type": "markdown",
   "metadata": {},
   "source": [
    "# Test steady-state heat equation"
   ]
  },
  {
   "cell_type": "markdown",
   "metadata": {},
   "source": [
    "## Dirichlet Condition 1"
   ]
  },
  {
   "cell_type": "code",
   "execution_count": 28,
   "metadata": {},
   "outputs": [],
   "source": [
    "input_mesh = pymesh.generate_icosphere(1, (0,0,0), refinement_order=2)\n",
    "test_mesh = Mesh3D(input_mesh, CELL_SIZE)\n",
    "test_mesh.write_mesh(\"meshes/sphere_mesh.vtk\")"
   ]
  },
  {
   "cell_type": "code",
   "execution_count": 29,
   "metadata": {},
   "outputs": [
    {
     "name": "stdout",
     "output_type": "stream",
     "text": [
      "Number of vertices: 163\n"
     ]
    }
   ],
   "source": [
    "print(\"Number of vertices:\", test_mesh.n_vertices)"
   ]
  },
  {
   "cell_type": "code",
   "execution_count": 30,
   "metadata": {},
   "outputs": [],
   "source": [
    "def cart2sph(x,y,z):\n",
    "    XsqPlusYsq = x**2 + y**2\n",
    "    r = m.sqrt(XsqPlusYsq + z**2)               # r\n",
    "#     elev = m.atan2(z,m.sqrt(XsqPlusYsq))     # theta\n",
    "    elev = m.acos(z/r)     # theta\n",
    "    az = m.atan2(y,x)                           # phi\n",
    "    return r, elev, az"
   ]
  },
  {
   "cell_type": "code",
   "execution_count": 31,
   "metadata": {},
   "outputs": [
    {
     "name": "stdout",
     "output_type": "stream",
     "text": [
      "(163, 163)\n",
      "(163, 163)\n"
     ]
    }
   ],
   "source": [
    "def calculate_dirichlet_values(vertex):\n",
    "    r, theta, phi = cart2sph(vertex[0], vertex[1], vertex[2])\n",
    "    return m.cos(theta)**2\n",
    "\n",
    "stiffness = test_mesh.assemble_stiffness()\n",
    "stiffness = test_mesh.assembler.assemble(\"laplacian\")\n",
    "print(stiffness.shape)\n",
    "stiffness = stiffness.todense()\n",
    "print(stiffness.shape)\n",
    "\n",
    "# Remove dirichlet boundary points\n",
    "stiffness[test_mesh.boundary_vertices,:] = 0.0\n",
    "# And ensure matrix isn't singular\n",
    "for vertex in test_mesh.boundary_vertices:\n",
    "    stiffness[vertex, vertex] = 1.0\n",
    "    \n",
    "rhs_vector = np.zeros(test_mesh.n_vertices)\n",
    "\n",
    "dirichlet_rhs = np.zeros(test_mesh.n_vertices)\n",
    "dirichlet_rhs[test_mesh.boundary_vertices] = test_mesh.calculate_boundary_values(calculate_dirichlet_values)\n",
    "\n",
    "rhs_vector += dirichlet_rhs\n",
    "\n",
    "# Solve\n",
    "soln = np.linalg.solve(stiffness, rhs_vector)"
   ]
  },
  {
   "cell_type": "code",
   "execution_count": 32,
   "metadata": {},
   "outputs": [
    {
     "name": "stdout",
     "output_type": "stream",
     "text": [
      "Error is 1.132892344728772e-15\n"
     ]
    }
   ],
   "source": [
    "def calc_analytical_solution(vertex):\n",
    "    r, theta, phi = cart2sph(vertex[0], vertex[1], vertex[2])\n",
    "    c = [1, 0, 2*(r)**2]\n",
    "    return 1/3*np.polynomial.legendre.legval(m.cos(theta), c)\n",
    "\n",
    "analytical_soln = np.array([calc_analytical_solution(v) for v in test_mesh.vertices()])\n",
    "\n",
    "# Calculate error\n",
    "error = np.abs(soln - analytical_soln)\n",
    "\n",
    "print(\"Error is\", np.linalg.norm(error))\n",
    "\n",
    "test_mesh.set_attribute(\"u\", soln)\n",
    "test_mesh.set_attribute(\"error\", error)\n",
    "test_mesh.set_attribute(\"analytical_u\", analytical_soln)\n",
    "\n",
    "test_mesh.write_mesh(\"meshes/laplace_equation_dirichlet_result.vtk\")"
   ]
  },
  {
   "cell_type": "markdown",
   "metadata": {},
   "source": [
    "## Dirichlet condition 2"
   ]
  },
  {
   "cell_type": "code",
   "execution_count": 33,
   "metadata": {},
   "outputs": [],
   "source": [
    "input_mesh = pymesh.generate_icosphere(1, (0,0,0), refinement_order=2)\n",
    "test_mesh = Mesh3D(input_mesh, CELL_SIZE)\n",
    "# test_mesh.write_mesh(\"meshes/sphere_mesh.vtk\")"
   ]
  },
  {
   "cell_type": "code",
   "execution_count": 34,
   "metadata": {},
   "outputs": [],
   "source": [
    "def cart2sph(x,y,z):\n",
    "    XsqPlusYsq = x**2 + y**2\n",
    "    r = m.sqrt(XsqPlusYsq + z**2)               # r\n",
    "#     elev = m.atan2(z,m.sqrt(XsqPlusYsq))     # theta\n",
    "    elev = m.acos(z/r)     # theta\n",
    "    az = m.atan2(y,x)                           # phi\n",
    "    return r, elev, az"
   ]
  },
  {
   "cell_type": "code",
   "execution_count": 35,
   "metadata": {},
   "outputs": [
    {
     "name": "stdout",
     "output_type": "stream",
     "text": [
      "(163, 163)\n",
      "(163, 163)\n"
     ]
    }
   ],
   "source": [
    "def calculate_dirichlet_values(vertex):\n",
    "    r, theta, phi = cart2sph(vertex[0], vertex[1], vertex[2])\n",
    "    return m.cos(theta)\n",
    "\n",
    "# stiffness = test_mesh.assemble_stiffness()\n",
    "stiffness = test_mesh.assembler.assemble(\"laplacian\")\n",
    "print(stiffness.shape)\n",
    "stiffness = stiffness.todense()\n",
    "print(stiffness.shape)\n",
    "\n",
    "# Remove dirichlet boundary points\n",
    "stiffness[test_mesh.boundary_vertices,:] = 0.0\n",
    "# And ensure matrix isn't singular\n",
    "for vertex in test_mesh.boundary_vertices:\n",
    "    stiffness[vertex, vertex] = 1.0\n",
    "    \n",
    "rhs_vector = np.zeros(test_mesh.n_vertices)\n",
    "\n",
    "dirichlet_rhs = np.zeros(test_mesh.n_vertices)\n",
    "dirichlet_rhs[test_mesh.boundary_vertices] = test_mesh.calculate_boundary_values(calculate_dirichlet_values)\n",
    "\n",
    "rhs_vector += dirichlet_rhs\n",
    "\n",
    "# Solve\n",
    "soln = np.linalg.solve(stiffness, rhs_vector)"
   ]
  },
  {
   "cell_type": "code",
   "execution_count": 36,
   "metadata": {},
   "outputs": [
    {
     "name": "stdout",
     "output_type": "stream",
     "text": [
      "Error is 1.2506214487394732e-15\n"
     ]
    }
   ],
   "source": [
    "def calc_analytical_solution(vertex):\n",
    "    return vertex[2]\n",
    "\n",
    "analytical_soln = np.array([calc_analytical_solution(v) for v in test_mesh.vertices()])\n",
    "\n",
    "# Calculate error\n",
    "error = np.abs(soln - analytical_soln)\n",
    "\n",
    "print(\"Error is\", np.linalg.norm(error))\n",
    "\n",
    "test_mesh.set_attribute(\"u\", soln)\n",
    "test_mesh.set_attribute(\"error\", error)\n",
    "test_mesh.set_attribute(\"analytical_u\", analytical_soln)\n",
    "\n",
    "test_mesh.write_mesh(\"meshes/laplace_equation_dirichlet_2_result.vtk\")"
   ]
  },
  {
   "cell_type": "markdown",
   "metadata": {},
   "source": [
    "## von Neumann conditions"
   ]
  },
  {
   "cell_type": "code",
   "execution_count": 48,
   "metadata": {},
   "outputs": [],
   "source": [
    "input_mesh = pymesh.generate_icosphere(1, (0,0,0), refinement_order=2)\n",
    "test_mesh = Mesh3D(input_mesh, CELL_SIZE)\n",
    "test_mesh.write_mesh(\"meshes/sphere_mesh.vtk\")"
   ]
  },
  {
   "cell_type": "code",
   "execution_count": 49,
   "metadata": {},
   "outputs": [],
   "source": [
    "def cart2sph(x,y,z):\n",
    "    XsqPlusYsq = x**2 + y**2\n",
    "    r = m.sqrt(XsqPlusYsq + z**2)               # r\n",
    "#     elev = m.atan2(z,m.sqrt(XsqPlusYsq))     # theta\n",
    "    elev = m.acos(z/r)     # theta\n",
    "    az = m.atan2(y,x)                           # phi\n",
    "    return r, elev, az"
   ]
  },
  {
   "cell_type": "code",
   "execution_count": 50,
   "metadata": {
    "scrolled": true
   },
   "outputs": [],
   "source": [
    "def calculate_von_neumann_values(vertex):\n",
    "    r, theta, phi = cart2sph(vertex[0], vertex[1], vertex[2])\n",
    "    return m.cos(theta)\n",
    "#     return 0.0\n",
    "\n",
    "stiffness = test_mesh.assembler.assemble(\"laplacian\")\n",
    "stiffness = stiffness.todense()\n",
    "  \n",
    "rhs_vector = np.zeros(test_mesh.n_vertices)\n",
    "\n",
    "# Incorporate von Neumann condition\n",
    "boundary_values = test_mesh.calculate_boundary_values(calculate_von_neumann_values)\n",
    "rhs_vector += test_mesh.assemble_von_neumann_boundary(boundary_values)\n",
    "\n",
    "# Incorporate Dirichlet condition\n",
    "fixed_boundary_vertex = test_mesh.boundary_vertices[0]\n",
    "\n",
    "# Remove dirichlet boundary points\n",
    "stiffness[fixed_boundary_vertex,:] = 0.0\n",
    "# And ensure matrix isn't singular\n",
    "for vertex in [fixed_boundary_vertex]:\n",
    "    stiffness[vertex, vertex] = 1.0\n",
    "\n",
    "rhs_vector[fixed_boundary_vertex] = test_mesh.get_pos(fixed_boundary_vertex)[2]\n",
    "\n",
    "# Solve\n",
    "soln = np.linalg.solve(stiffness, rhs_vector)"
   ]
  },
  {
   "cell_type": "code",
   "execution_count": 51,
   "metadata": {},
   "outputs": [
    {
     "name": "stdout",
     "output_type": "stream",
     "text": [
      "Error is 1.9459738619672986\n"
     ]
    }
   ],
   "source": [
    "def calc_analytical_solution(vertex):\n",
    "    return vertex[2]\n",
    "\n",
    "analytical_soln = np.array([calc_analytical_solution(v) for v in test_mesh.vertices()])\n",
    "\n",
    "# Calculate error\n",
    "error = np.abs(soln - analytical_soln)\n",
    "\n",
    "print(\"Error is\", np.linalg.norm(error))\n",
    "\n",
    "test_mesh.set_attribute(\"u\", soln)\n",
    "test_mesh.set_attribute(\"error\", error)\n",
    "test_mesh.set_attribute(\"analytical_u\", analytical_soln)\n",
    "\n",
    "test_mesh.write_mesh(\"meshes/laplace_equation_von_neumann_result.vtk\")"
   ]
  },
  {
   "cell_type": "code",
   "execution_count": null,
   "metadata": {},
   "outputs": [],
   "source": []
  }
 ],
 "metadata": {
  "kernelspec": {
   "display_name": "Python 3",
   "language": "python",
   "name": "python3"
  },
  "language_info": {
   "codemirror_mode": {
    "name": "ipython",
    "version": 3
   },
   "file_extension": ".py",
   "mimetype": "text/x-python",
   "name": "python",
   "nbconvert_exporter": "python",
   "pygments_lexer": "ipython3",
   "version": "3.8.1"
  }
 },
 "nbformat": 4,
 "nbformat_minor": 2
}
